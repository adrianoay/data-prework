{
 "cells": [
  {
   "cell_type": "code",
   "execution_count": null,
   "metadata": {},
   "outputs": [],
   "source": [
    "well_height = 125\n",
    "daily_distance = 30\n",
    "nightly_distance = -20\n",
    "snail_position = True"
   ]
  },
  {
   "cell_type": "code",
   "execution_count": null,
   "metadata": {},
   "outputs": [],
   "source": [
    "days = 0\n",
    "total_distance = 0\n",
    "distance_day = daily_distance + nightly_distance"
   ]
  },
  {
   "cell_type": "code",
   "execution_count": null,
   "metadata": {},
   "outputs": [],
   "source": [
    "while snail_position:\n",
    "    total_distance += distance_day\n",
    "    days += 1\n",
    "    print(days)\n",
    "    if total_distance > well:\n",
    "        snail_position = False"
   ]
  },
  {
   "cell_type": "code",
   "execution_count": null,
   "metadata": {},
   "outputs": [],
   "source": [
    "print(\"The snail took\", days, \"days to come out\")"
   ]
  },
  {
   "cell_type": "code",
   "execution_count": 2,
   "metadata": {},
   "outputs": [
    {
     "name": "stdout",
     "output_type": "stream",
     "text": [
      "1\n",
      "2\n",
      "3\n",
      "4\n",
      "5\n",
      "6\n",
      "7\n",
      "8\n",
      "9\n",
      "10\n",
      "11\n",
      "12\n",
      "13\n",
      "Congratulations! the snail escaped in 13 days\n"
     ]
    }
   ],
   "source": [
    "well = 125\n",
    "cmPerDay = 30\n",
    "cmPerNight = -20\n",
    "snailHasNotEscaped = True\n",
    "days = 0\n",
    "totalCMs = 0\n",
    "\n",
    "cmPerWholeDay = cmPerDay + cmPerNight\n",
    "\n",
    "while snailHasNotEscaped:\n",
    "   totalCMs += cmPerWholeDay\n",
    "   days += 1\n",
    "   print(days)\n",
    "   if totalCMs >= well:\n",
    "      snailHasNotEscaped = False\n",
    "\n",
    "print(\"Congratulations! the snail escaped in\", days, \"days\")\n"
   ]
  },
  {
   "cell_type": "code",
   "execution_count": 1,
   "metadata": {},
   "outputs": [
    {
     "name": "stdout",
     "output_type": "stream",
     "text": [
      "Hello World\n"
     ]
    }
   ],
   "source": [
    "print(\"Hello World\")"
   ]
  },
  {
   "cell_type": "code",
   "execution_count": null,
   "metadata": {},
   "outputs": [],
   "source": []
  }
 ],
 "metadata": {
  "kernelspec": {
   "display_name": "Python 3",
   "language": "python",
   "name": "python3"
  },
  "language_info": {
   "codemirror_mode": {
    "name": "ipython",
    "version": 3
   },
   "file_extension": ".py",
   "mimetype": "text/x-python",
   "name": "python",
   "nbconvert_exporter": "python",
   "pygments_lexer": "ipython3",
   "version": "3.8.3"
  }
 },
 "nbformat": 4,
 "nbformat_minor": 4
}
